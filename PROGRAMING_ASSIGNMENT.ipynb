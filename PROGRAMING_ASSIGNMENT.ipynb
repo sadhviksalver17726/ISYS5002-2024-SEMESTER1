{
  "cells": [
    {
      "cell_type": "markdown",
      "metadata": {
        "id": "view-in-github",
        "colab_type": "text"
      },
      "source": [
        "<a href=\"https://colab.research.google.com/github/sadhviksalver17726/ISYS5002-2024-SEMESTER1/blob/main/PROGRAMING_ASSIGNMENT.ipynb\" target=\"_parent\"><img src=\"https://colab.research.google.com/assets/colab-badge.svg\" alt=\"Open In Colab\"/></a>"
      ]
    },
    {
      "cell_type": "code",
      "execution_count": null,
      "id": "d1111706",
      "metadata": {
        "scrolled": false,
        "id": "d1111706"
      },
      "outputs": [],
      "source": [
        "import matplotlib.pyplot as plt\n",
        "\n",
        "def input_monthly_data():\n",
        "    monthly_data = []\n",
        "    for month in range(1, 13):\n",
        "        electricity = float(input(f\"Enter electricity usage for month {month}: \"))\n",
        "        gas = float(input(f\"Enter gas usage for month {month}: \"))\n",
        "        water = float(input(f\"Enter water usage for month {month}: \"))\n",
        "        monthly_data.append({'Month': month, 'Electricity': electricity, 'Gas': gas, 'Water': water})\n",
        "    return monthly_data\n",
        "\n",
        "def monthly_consumption_trends(data):\n",
        "    months = [entry['Month'] for entry in data]\n",
        "    electricity = [entry['Electricity'] for entry in data]\n",
        "    gas = [entry['Gas'] for entry in data]\n",
        "    water = [entry['Water'] for entry in data]\n",
        "\n",
        "    plt.plot(months, electricity, label='Electricity')\n",
        "    plt.plot(months, gas, label='Gas')\n",
        "    plt.plot(months, water, label='Water')\n",
        "    plt.xlabel('Month')\n",
        "    plt.ylabel('Usage')\n",
        "    plt.title('Monthly Consumption Trends')\n",
        "    plt.legend()\n",
        "    plt.show()\n",
        "\n",
        "def energy_type_comparison(data):\n",
        "    total_electricity = sum(entry['Electricity'] for entry in data)\n",
        "    total_gas = sum(entry['Gas'] for entry in data)\n",
        "    total_water = sum(entry['Water'] for entry in data)\n",
        "\n",
        "    energy_types = ['Electricity', 'Gas', 'Water']\n",
        "    consumption = [total_electricity, total_gas, total_water]\n",
        "\n",
        "    plt.bar(energy_types, consumption)\n",
        "    plt.xlabel('Energy Type')\n",
        "    plt.ylabel('Total Consumption')\n",
        "    plt.title('Comparison of Energy Types by Consumption')\n",
        "    plt.show()\n",
        "\n",
        "def annual_consumption_breakdown(data):\n",
        "    total_electricity = sum(entry['Electricity'] for entry in data)\n",
        "    total_gas = sum(entry['Gas'] for entry in data)\n",
        "    total_water = sum(entry['Water'] for entry in data)\n",
        "\n",
        "    energy_types = ['Electricity', 'Gas', 'Water']\n",
        "    consumption = [total_electricity, total_gas, total_water]\n",
        "\n",
        "    plt.pie(consumption, labels=energy_types, autopct='%1.1f%%')\n",
        "    plt.title('Annual Total Consumption Breakdown by Energy Type')\n",
        "    plt.show()\n",
        "\n",
        "def main():\n",
        "    print(\"Energy Consumption Analysis Tool\")\n",
        "    data = input_monthly_data()\n",
        "\n",
        "    while True:\n",
        "        print(\"\\nSelect Analysis Option:\")\n",
        "        print(\"1. Monthly Consumption Trends\")\n",
        "        print(\"2. Comparison of Energy Types by Consumption\")\n",
        "        print(\"3. Annual Total Consumption Breakdown by Energy Type\")\n",
        "        print(\"4. Exit\")\n",
        "        choice = input(\"Enter your choice (1-4): \")\n",
        "\n",
        "        if choice == '1':\n",
        "            monthly_consumption_trends(data)\n",
        "        elif choice == '2':\n",
        "            energy_type_comparison(data)\n",
        "        elif choice == '3':\n",
        "            annual_consumption_breakdown(data)\n",
        "        elif choice == '4':\n",
        "            break\n",
        "        else:\n",
        "            print(\"Invalid choice. Please enter a number from 1 to 4.\")\n",
        "\n",
        "if __name__ == \"__main__\":\n",
        "    main()\n"
      ]
    },
    {
      "cell_type": "code",
      "execution_count": null,
      "id": "30fb18ee",
      "metadata": {
        "scrolled": false,
        "id": "30fb18ee"
      },
      "outputs": [],
      "source": []
    },
    {
      "cell_type": "code",
      "execution_count": null,
      "id": "8bc26cca",
      "metadata": {
        "id": "8bc26cca"
      },
      "outputs": [],
      "source": []
    },
    {
      "cell_type": "code",
      "execution_count": null,
      "id": "373d907f",
      "metadata": {
        "id": "373d907f"
      },
      "outputs": [],
      "source": []
    },
    {
      "cell_type": "code",
      "execution_count": null,
      "id": "bc5b31a1",
      "metadata": {
        "id": "bc5b31a1"
      },
      "outputs": [],
      "source": []
    },
    {
      "cell_type": "code",
      "execution_count": null,
      "id": "11680a38",
      "metadata": {
        "id": "11680a38"
      },
      "outputs": [],
      "source": []
    }
  ],
  "metadata": {
    "kernelspec": {
      "display_name": "Python 3 (ipykernel)",
      "language": "python",
      "name": "python3"
    },
    "language_info": {
      "codemirror_mode": {
        "name": "ipython",
        "version": 3
      },
      "file_extension": ".py",
      "mimetype": "text/x-python",
      "name": "python",
      "nbconvert_exporter": "python",
      "pygments_lexer": "ipython3",
      "version": "3.10.6"
    },
    "colab": {
      "provenance": [],
      "include_colab_link": true
    }
  },
  "nbformat": 4,
  "nbformat_minor": 5
}