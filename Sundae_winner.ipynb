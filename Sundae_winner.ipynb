{
  "nbformat": 4,
  "nbformat_minor": 0,
  "metadata": {
    "colab": {
      "provenance": [],
      "authorship_tag": "ABX9TyOGsrvefLU0AL/s0VwOycfO",
      "include_colab_link": true
    },
    "kernelspec": {
      "name": "python3",
      "display_name": "Python 3"
    },
    "language_info": {
      "name": "python"
    }
  },
  "cells": [
    {
      "cell_type": "markdown",
      "metadata": {
        "id": "view-in-github",
        "colab_type": "text"
      },
      "source": [
        "<a href=\"https://colab.research.google.com/github/sadhviksalver17726/ISYS5002-2024-SEMESTER1/blob/main/Sundae_winner.ipynb\" target=\"_parent\"><img src=\"https://colab.research.google.com/assets/colab-badge.svg\" alt=\"Open In Colab\"/></a>"
      ]
    },
    {
      "cell_type": "code",
      "source": [
        "import random"
      ],
      "metadata": {
        "id": "xUip57VIzHlH"
      },
      "execution_count": 26,
      "outputs": []
    },
    {
      "cell_type": "code",
      "source": [
        "customers = ['Jimmy', 'Kim', 'John', 'Stacie'] #Creates a customer list"
      ],
      "metadata": {
        "id": "Zl6J8hzVs8L8"
      },
      "execution_count": 3,
      "outputs": []
    },
    {
      "cell_type": "code",
      "source": [
        "winner = random.choice(customers) #picks up a random winner"
      ],
      "metadata": {
        "id": "bekhjbD7tNbd"
      },
      "execution_count": null,
      "outputs": []
    },
    {
      "cell_type": "code",
      "source": [
        "flavor = 'vanilla' #assigning a value to the variable flavor"
      ],
      "metadata": {
        "id": "5voOm5ietNek"
      },
      "execution_count": 5,
      "outputs": []
    },
    {
      "cell_type": "code",
      "source": [
        "print('Congratulations ' + winner +\n",
        " ' you have won an ice cream sundae!')"
      ],
      "metadata": {
        "colab": {
          "base_uri": "https://localhost:8080/",
          "height": 159
        },
        "id": "nh2esanqtNhk",
        "outputId": "6ee4aaf4-da1a-4c27-fe85-d6af9c9b73ee"
      },
      "execution_count": 27,
      "outputs": [
        {
          "output_type": "error",
          "ename": "NameError",
          "evalue": "name 'winner' is not defined",
          "traceback": [
            "\u001b[0;31m---------------------------------------------------------------------------\u001b[0m",
            "\u001b[0;31mNameError\u001b[0m                                 Traceback (most recent call last)",
            "\u001b[0;32m<ipython-input-27-dee8909b62bb>\u001b[0m in \u001b[0;36m<cell line: 1>\u001b[0;34m()\u001b[0m\n\u001b[0;32m----> 1\u001b[0;31m print('Congratulations ' + winner +\n\u001b[0m\u001b[1;32m      2\u001b[0m  ' you have won an ice cream sundae!')\n",
            "\u001b[0;31mNameError\u001b[0m: name 'winner' is not defined"
          ]
        }
      ]
    },
    {
      "cell_type": "code",
      "source": [
        "prompt = 'Would you like a cherry on top? ' #assigning a question to the variable prompt"
      ],
      "metadata": {
        "id": "9EG1g7V9tNoU"
      },
      "execution_count": 7,
      "outputs": []
    },
    {
      "cell_type": "code",
      "source": [
        "wants_cherry = input(prompt) #saves the customer preference on cherry"
      ],
      "metadata": {
        "colab": {
          "base_uri": "https://localhost:8080/"
        },
        "id": "9HYBYxGxtsHd",
        "outputId": "696faa37-20b4-4028-fb7f-12a419031645"
      },
      "execution_count": 11,
      "outputs": [
        {
          "name": "stdout",
          "output_type": "stream",
          "text": [
            "Would you like a cherry on top? yes\n"
          ]
        }
      ]
    },
    {
      "cell_type": "code",
      "source": [
        "order = flavor + ' sundae ' #creates the order"
      ],
      "metadata": {
        "id": "HkA62AiXtsPV"
      },
      "execution_count": 8,
      "outputs": []
    },
    {
      "cell_type": "code",
      "source": [
        "if (wants_cherry == 'yes'):\n",
        " order = order + ' with a cherry on top' #adds a cherry on top if the user said yes"
      ],
      "metadata": {
        "id": "RqIYdM67t1f2"
      },
      "execution_count": 12,
      "outputs": []
    },
    {
      "cell_type": "code",
      "source": [
        "  print('One ' + order + ' for ' + winner +\n",
        " ' coming right up...')"
      ],
      "metadata": {
        "colab": {
          "base_uri": "https://localhost:8080/",
          "height": 159
        },
        "id": "WAnTN9gRyHeS",
        "outputId": "bd437041-32e6-4099-d29c-96c45d43664c"
      },
      "execution_count": 17,
      "outputs": [
        {
          "output_type": "error",
          "ename": "NameError",
          "evalue": "name 'winner' is not defined",
          "traceback": [
            "\u001b[0;31m---------------------------------------------------------------------------\u001b[0m",
            "\u001b[0;31mNameError\u001b[0m                                 Traceback (most recent call last)",
            "\u001b[0;32m<ipython-input-17-52a7dab3d88e>\u001b[0m in \u001b[0;36m<cell line: 1>\u001b[0;34m()\u001b[0m\n\u001b[0;32m----> 1\u001b[0;31m print('One ' + order + ' for ' + winner +\n\u001b[0m\u001b[1;32m      2\u001b[0m  ' coming right up...')\n",
            "\u001b[0;31mNameError\u001b[0m: name 'winner' is not defined"
          ]
        }
      ]
    }
  ]
}