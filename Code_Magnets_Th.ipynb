{
  "nbformat": 4,
  "nbformat_minor": 0,
  "metadata": {
    "colab": {
      "provenance": [],
      "authorship_tag": "ABX9TyMaXI04G1/fLaAYK11x7gjD",
      "include_colab_link": true
    },
    "kernelspec": {
      "name": "python3",
      "display_name": "Python 3"
    },
    "language_info": {
      "name": "python"
    }
  },
  "cells": [
    {
      "cell_type": "markdown",
      "metadata": {
        "id": "view-in-github",
        "colab_type": "text"
      },
      "source": [
        "<a href=\"https://colab.research.google.com/github/sadhviksalver17726/ISYS5002-2024-SEMESTER1/blob/main/Code_Magnets_Th.ipynb\" target=\"_parent\"><img src=\"https://colab.research.google.com/assets/colab-badge.svg\" alt=\"Open In Colab\"/></a>"
      ]
    },
    {
      "cell_type": "markdown",
      "source": [
        "## Omlette Recipe\n",
        "\n",
        "\n",
        "1. Crack three eggs into bowl\n",
        "2. Whip eggs\n",
        "3. If the customer ordered chese:Add cheese on top"
      ],
      "metadata": {
        "id": "psmcGKrYqOuQ"
      }
    }
  ]
}